{
 "cells": [
  {
   "cell_type": "markdown",
   "metadata": {},
   "source": [
    "#### GAME  ROCK ,SCISSOR ,PAPER THEORY "
   ]
  },
  {
   "cell_type": "code",
   "execution_count": 1,
   "metadata": {},
   "outputs": [
    {
     "name": "stdout",
     "output_type": "stream",
     "text": [
      "Winning Rules of the rock scissor paper game the rules are 1.rock vs paper :paper wins 2.rock vs scissor:rock wins 3.paper vs scissor:scissor wins\n",
      "Enter choice\n",
      " 1.rock\n",
      " 2.paper\n",
      " 3.scissor\n",
      "\n",
      "user turn:1\n",
      "Enter choice\n",
      " 1.rock\n",
      " 2.paper\n",
      " 3.scissor\n",
      "\n",
      "user turn:2\n",
      "Enter choice\n",
      " 1.rock\n",
      " 2.paper\n",
      " 3.scissor\n",
      "\n",
      "user turn:3\n",
      "user choice is: scissor\n",
      "let the computer play\n"
     ]
    },
    {
     "ename": "AttributeError",
     "evalue": "module 'random' has no attribute 'randit'",
     "output_type": "error",
     "traceback": [
      "\u001b[1;31m---------------------------------------------------------------------------\u001b[0m",
      "\u001b[1;31mAttributeError\u001b[0m                            Traceback (most recent call last)",
      "\u001b[1;32m<ipython-input-1-51c25641d670>\u001b[0m in \u001b[0;36m<module>\u001b[1;34m\u001b[0m\n\u001b[0;32m     14\u001b[0m                     \u001b[0mprint\u001b[0m\u001b[1;33m(\u001b[0m\u001b[1;34m\"user choice is:\"\u001b[0m\u001b[1;33m,\u001b[0m\u001b[0mchoicename\u001b[0m\u001b[1;33m)\u001b[0m\u001b[1;33m\u001b[0m\u001b[1;33m\u001b[0m\u001b[0m\n\u001b[0;32m     15\u001b[0m                     \u001b[0mprint\u001b[0m\u001b[1;33m(\u001b[0m\u001b[1;34m\"let the computer play\"\u001b[0m\u001b[1;33m)\u001b[0m\u001b[1;33m\u001b[0m\u001b[1;33m\u001b[0m\u001b[0m\n\u001b[1;32m---> 16\u001b[1;33m                     \u001b[0mcompchoice\u001b[0m\u001b[1;33m=\u001b[0m\u001b[0mrandom\u001b[0m\u001b[1;33m.\u001b[0m\u001b[0mrandit\u001b[0m\u001b[1;33m(\u001b[0m\u001b[1;36m1\u001b[0m\u001b[1;33m,\u001b[0m\u001b[1;36m3\u001b[0m\u001b[1;33m)\u001b[0m\u001b[1;33m\u001b[0m\u001b[1;33m\u001b[0m\u001b[0m\n\u001b[0m\u001b[0;32m     17\u001b[0m                     \u001b[1;32mif\u001b[0m \u001b[0mcompchoice\u001b[0m\u001b[1;33m==\u001b[0m \u001b[1;36m1\u001b[0m\u001b[1;33m:\u001b[0m\u001b[1;33m\u001b[0m\u001b[1;33m\u001b[0m\u001b[0m\n\u001b[0;32m     18\u001b[0m                         \u001b[0mcompchoicename\u001b[0m\u001b[1;33m=\u001b[0m\u001b[1;34m\"rock\"\u001b[0m\u001b[1;33m\u001b[0m\u001b[1;33m\u001b[0m\u001b[0m\n",
      "\u001b[1;31mAttributeError\u001b[0m: module 'random' has no attribute 'randit'"
     ]
    }
   ],
   "source": [
    "import random\n",
    "print(\"Winning Rules of the rock scissor paper game the rules are 1.rock vs paper :paper wins 2.rock vs scissor:rock wins 3.paper vs scissor:scissor wins\")\n",
    "while True:\n",
    "        print(\"Enter choice\\n 1.rock\\n 2.paper\\n 3.scissor\\n\")\n",
    "        choice=int(input(\"user turn:\"))\n",
    "        while choice > 3 or choice < 1:\n",
    "            choice=int(input(\"enter a valid input:\"))\n",
    "        if choice==1:\n",
    "            choicename=\"rock\"\n",
    "        elif choice==2:\n",
    "                choicename=\"paper\"\n",
    "        else:\n",
    "                    choicename=\"scissor\"\n",
    "                    print(\"user choice is:\",choicename)\n",
    "                    print(\"let the computer play\")\n",
    "                    compchoice=random.randit(1,3)\n",
    "                    if compchoice== 1:\n",
    "                        compchoicename=\"rock\"\n",
    "                    elif compchoice==2:\n",
    "                        compchoicename=\"paper\"\n",
    "                    else :\n",
    "                        compchoicename=\"scissor\"\n",
    "                        print(\"computer choice is:\",compchoicename)\n",
    "                        print(choicename+\"vs\"+compchoicename)\n",
    "                        if((choice==1 and compchoice==2)or(choice==2 and compchoice==1)):\n",
    "                                print(\"paper wins=>\",end=\"\")\n",
    "                                result=\"rock\"\n",
    "                        elif ((choice==1 and compchoice==3)or (choice==3 and compchoice==1)):\n",
    "                                    print(\"rock wins=>\",end=\" \")\n",
    "                                    result=\"scissor\"\n",
    "                                    if result==choicename:\n",
    "                                        print(\"<==user wins==>\")\n",
    "                        else:\n",
    "                                            print(\"<==computer wins==>\")\n",
    "                                            print(\"do you want to play again?(Y/N)\")\n",
    "                                            ans=input()\n",
    "if ans == 'n'or ans =='N':\n",
    "               print(\"Thank you for playing\\n\")\n",
    "                                            \n",
    "\n",
    "                    "
   ]
  },
  {
   "cell_type": "code",
   "execution_count": null,
   "metadata": {},
   "outputs": [],
   "source": []
  },
  {
   "cell_type": "code",
   "execution_count": null,
   "metadata": {},
   "outputs": [],
   "source": []
  },
  {
   "cell_type": "code",
   "execution_count": null,
   "metadata": {},
   "outputs": [],
   "source": []
  }
 ],
 "metadata": {
  "kernelspec": {
   "display_name": "Python 3",
   "language": "python",
   "name": "python3"
  },
  "language_info": {
   "codemirror_mode": {
    "name": "ipython",
    "version": 3
   },
   "file_extension": ".py",
   "mimetype": "text/x-python",
   "name": "python",
   "nbconvert_exporter": "python",
   "pygments_lexer": "ipython3",
   "version": "3.7.3"
  }
 },
 "nbformat": 4,
 "nbformat_minor": 2
}
